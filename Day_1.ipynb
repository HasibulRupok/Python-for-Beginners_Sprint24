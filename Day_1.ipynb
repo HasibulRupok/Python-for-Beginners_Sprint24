{
 "cells": [
  {
   "cell_type": "code",
   "execution_count": 3,
   "id": "10931a97-ece5-4069-984a-150df8b4daf8",
   "metadata": {},
   "outputs": [
    {
     "name": "stdout",
     "output_type": "stream",
     "text": [
      "2\n"
     ]
    }
   ],
   "source": [
    "print(1+1)"
   ]
  },
  {
   "cell_type": "code",
   "execution_count": 26,
   "id": "a4825603-a50b-45e8-8190-6053d6b7fe79",
   "metadata": {},
   "outputs": [
    {
     "name": "stdout",
     "output_type": "stream",
     "text": [
      "<class 'str'>\n"
     ]
    }
   ],
   "source": [
    "a = 20\n",
    "b = 10.5\n",
    "c = \"Python is the best\"\n",
    "d = True\n",
    "\n",
    "rupok = 10\n",
    "amm_jam = 20\n",
    "\n",
    "print(type(c))"
   ]
  },
  {
   "cell_type": "code",
   "execution_count": 22,
   "id": "d7d19cb7-014e-4218-9a8e-cca77be11487",
   "metadata": {},
   "outputs": [
    {
     "name": "stdout",
     "output_type": "stream",
     "text": [
      "50\n"
     ]
    }
   ],
   "source": [
    "# print(10)\n",
    "\n",
    "\"\"\"\n",
    "print(20)\n",
    "print(1)\n",
    "print(1)\n",
    "print(1)\n",
    "print(1)\n",
    "\"\"\"\n",
    "print(10+20+20)"
   ]
  },
  {
   "cell_type": "code",
   "execution_count": 46,
   "id": "6b41ff31-7d2f-4153-9b8d-5b45aa34697b",
   "metadata": {},
   "outputs": [
    {
     "name": "stdout",
     "output_type": "stream",
     "text": [
      "True\n"
     ]
    }
   ],
   "source": [
    "a = 10.5\n",
    "b = int(a)\n",
    "\n",
    "c = \"100\"\n",
    "d = int(c)\n",
    "# print(type(d)\n",
    "\n",
    "e = True\n",
    "f = False\n",
    "\n",
    "g = int(False)\n",
    "\n",
    "x = bool(0)\n",
    "y = bool(-10)\n",
    "\n",
    "p = bool(\"hello\")\n",
    "q = bool(\"\")\n",
    "     \n",
    "print(q)\n"
   ]
  },
  {
   "cell_type": "code",
   "execution_count": 68,
   "id": "3eec001a-c9a1-4c85-adf3-06f62b18b556",
   "metadata": {},
   "outputs": [
    {
     "data": {
      "text/plain": [
       "3"
      ]
     },
     "execution_count": 68,
     "metadata": {},
     "output_type": "execute_result"
    }
   ],
   "source": [
    "a = 10\n",
    "A = 100\n",
    "b = 5\n",
    "c = a + b\n",
    "\n",
    "d = 100 - 50\n",
    "e = 10 * a\n",
    "\n",
    "x  = a/b\n",
    "f = int(x)\n",
    "\n",
    "# print(\"hi\" == \"Hi\")\n",
    "# print(a == a)\n",
    "\n",
    "# % = modulos / mod\n",
    "r = 10 % 7\n",
    "\n",
    "print( 10 != 11)\n",
    "\n",
    "\"\"\"\n",
    "  A or B \n",
    "= 1 or 1 = 1\n",
    "= 0 or 1 = 1\n",
    "= 1 or 0 = 1\n",
    "= 0 or 0 = 0\n",
    "\n",
    "  A and B\n",
    "= 1 and 1 = 1\n",
    "= 0 and 1 = 0\n",
    "= 1 and 0 = 0 \n",
    "= 0 and 0 = 0\n",
    "\"\"\""
   ]
  },
  {
   "cell_type": "code",
   "execution_count": 85,
   "id": "cb76ac5e-718b-4970-abda-53a7e752749d",
   "metadata": {},
   "outputs": [
    {
     "name": "stdout",
     "output_type": "stream",
     "text": [
      "Need more money\n"
     ]
    }
   ],
   "source": [
    "money = 45\n",
    "\n",
    "coffee = 250\n",
    "tea = 100\n",
    "pasta  =  50\n",
    "\n",
    "if money >= coffee:\n",
    "    print(\"Order a coffee for me\")\n",
    "elif money >= tea:\n",
    "    print(\"Order a tea for me\")\n",
    "elif money >= pasta:\n",
    "    print(\"Order a pasta\")\n",
    "else:\n",
    "    print(\"Need more money\")"
   ]
  },
  {
   "cell_type": "code",
   "execution_count": 72,
   "id": "db1685c3-3787-4f9e-898d-09d34c331b24",
   "metadata": {},
   "outputs": [
    {
     "name": "stdout",
     "output_type": "stream",
     "text": [
      "Hi\n"
     ]
    }
   ],
   "source": [
    "if True:\n",
    "    print(\"Hi\")\n",
    "else:\n",
    "    print(\"Bye\")"
   ]
  },
  {
   "cell_type": "code",
   "execution_count": 25,
   "id": "72f2846c-848d-4fe5-8fb1-946b2638e129",
   "metadata": {},
   "outputs": [
    {
     "name": "stdout",
     "output_type": "stream",
     "text": [
      "1\n",
      "2\n",
      "3\n",
      "4\n"
     ]
    }
   ],
   "source": [
    "for i in range(1, 5, 1):\n",
    "    print(i)"
   ]
  },
  {
   "cell_type": "code",
   "execution_count": 5,
   "id": "a3db2b0f-d069-45b0-94be-8487d03ff420",
   "metadata": {},
   "outputs": [
    {
     "name": "stdout",
     "output_type": "stream",
     "text": [
      "1\n",
      "2\n",
      "3\n",
      "4\n",
      "5\n",
      "6\n",
      "7\n",
      "8\n",
      "9\n",
      "10\n",
      "11\n",
      "12\n",
      "13\n",
      "14\n",
      "15\n",
      "16\n",
      "17\n",
      "18\n",
      "19\n",
      "20\n"
     ]
    }
   ],
   "source": [
    "i = 1\n",
    "while i <= 20:\n",
    "    print(i)\n",
    "    i = i + 1"
   ]
  },
  {
   "cell_type": "code",
   "execution_count": 10,
   "id": "2706918e-5300-45fc-a384-15665b20970a",
   "metadata": {},
   "outputs": [
    {
     "name": "stdout",
     "output_type": "stream",
     "text": [
      "1 is odd\n",
      "2 is even\n",
      "3 is odd\n",
      "4 is even\n",
      "5 is odd\n",
      "6 is even\n",
      "7 is odd\n",
      "8 is even\n",
      "9 is odd\n",
      "10 is even\n",
      "11 is odd\n",
      "12 is even\n",
      "13 is odd\n",
      "14 is even\n",
      "15 is odd\n",
      "16 is even\n",
      "17 is odd\n",
      "18 is even\n",
      "19 is odd\n",
      "20 is even\n"
     ]
    }
   ],
   "source": [
    "i = 1\n",
    "while i<21:\n",
    "    if i%2 == 0:\n",
    "        print(str(i) + \" is even\")\n",
    "    else:\n",
    "        print(str(i) + \" is odd\")\n",
    "    i = i+1"
   ]
  },
  {
   "cell_type": "code",
   "execution_count": 11,
   "id": "3fd950af-480a-40ba-8f2c-654435c7dafc",
   "metadata": {},
   "outputs": [
    {
     "name": "stdout",
     "output_type": "stream",
     "text": [
      "1 is odd\n",
      "2 is even\n",
      "3 is odd\n",
      "4 is even\n",
      "5 is odd\n",
      "6 is even\n",
      "7 is odd\n",
      "8 is even\n",
      "9 is odd\n",
      "10 is even\n",
      "11 is odd\n",
      "12 is even\n",
      "13 is odd\n",
      "14 is even\n",
      "15 is odd\n",
      "16 is even\n",
      "17 is odd\n",
      "18 is even\n",
      "19 is odd\n",
      "20 is even\n"
     ]
    }
   ],
   "source": [
    "\n",
    "for i in range(1, 21, 1):\n",
    "    if i%2 == 0:\n",
    "        print(str(i) + \" is even\")\n",
    "    else:\n",
    "        print(str(i) + \" is odd\")"
   ]
  },
  {
   "cell_type": "code",
   "execution_count": 23,
   "id": "61b8b86a-a60e-45c0-b9e6-c103e3ad6479",
   "metadata": {},
   "outputs": [
    {
     "data": {
      "text/plain": [
       "['Bike', 'Rickshaw', 'CNG', 'Thela-Gari']"
      ]
     },
     "execution_count": 23,
     "metadata": {},
     "output_type": "execute_result"
    }
   ],
   "source": [
    "mylist = [1,2,3,4,5,6,7]\n",
    "\n",
    "# print(mylist[4])\n",
    "\n",
    "cars = [\"Bike\", 'Bus', 'Rickshaw', \"CNG\"]\n",
    "\n",
    "cars.append(\"Thela-Gari\")\n",
    "cars.remove('Bus')\n",
    "cars"
   ]
  },
  {
   "cell_type": "code",
   "execution_count": 26,
   "id": "73f92f59-9fd2-4169-99e0-4f351542fea7",
   "metadata": {},
   "outputs": [
    {
     "name": "stdout",
     "output_type": "stream",
     "text": [
      "Bike\n",
      "Rickshaw\n",
      "CNG\n",
      "Thela-Gari\n"
     ]
    }
   ],
   "source": [
    "for i in cars:\n",
    "    print(i)"
   ]
  },
  {
   "cell_type": "code",
   "execution_count": 38,
   "id": "017af33f-9415-4dcf-99ea-d9129168f199",
   "metadata": {},
   "outputs": [
    {
     "name": "stdout",
     "output_type": "stream",
     "text": [
      "Bus stopped at Gabtoli\n",
      "Bus stopped at Saydabad\n",
      "Bus stopped at Gulisthan\n"
     ]
    }
   ],
   "source": [
    "stations  = [\"Gabtoli\", \"Saydabad\", \"Gulisthan\", \"Sadarghat\", \"Natunbazar\", \"Uttara\"]\n",
    "\n",
    "for station in stations:\n",
    "    if station == \"Natunbazar\":\n",
    "        continue\n",
    "    if station == \"Sadarghat\":\n",
    "        break\n",
    "    print(\"Bus stopped at \"+station)"
   ]
  },
  {
   "cell_type": "code",
   "execution_count": 39,
   "id": "550b854c-1b3c-418a-8394-7823110ea135",
   "metadata": {},
   "outputs": [
    {
     "name": "stdout",
     "output_type": "stream",
     "text": [
      "5\n",
      "1\n",
      "3\n",
      "19\n",
      "11\n",
      "7\n",
      "9\n"
     ]
    }
   ],
   "source": [
    "a = [5,1,2,3,19,11,10,7,9,8]\n",
    "\n",
    "for i in a:\n",
    "    if i%2 == 0:\n",
    "        continue\n",
    "    else:\n",
    "        print(i)"
   ]
  },
  {
   "cell_type": "code",
   "execution_count": 29,
   "id": "ae8d186b-2280-46a6-8ab2-96a5f2d31d0f",
   "metadata": {},
   "outputs": [
    {
     "name": "stdout",
     "output_type": "stream",
     "text": [
      "[19, 11, 10, 9, 8, 7, 5, 3, 2, 1]\n"
     ]
    }
   ],
   "source": [
    "a = [5,1,2,3,19,11,10,7,9,8]\n",
    "# a.sort()\n",
    "a.sort(reverse = True)\n",
    "print(a)"
   ]
  },
  {
   "cell_type": "code",
   "execution_count": 33,
   "id": "f6e85091-ece0-428b-a95b-b96b80f958dc",
   "metadata": {},
   "outputs": [
    {
     "data": {
      "text/plain": [
       "['Rickshaw', 'CNG', 'Bus', 'Bike', 'Air-bus']"
      ]
     },
     "execution_count": 33,
     "metadata": {},
     "output_type": "execute_result"
    }
   ],
   "source": [
    "cars = ['Bus', \"Bike\", 'Rickshaw', \"CNG\", \"Air-bus\"]\n",
    "cars.sort(reverse = True)\n",
    "cars"
   ]
  }
 ],
 "metadata": {
  "kernelspec": {
   "display_name": "Python 3 (ipykernel)",
   "language": "python",
   "name": "python3"
  },
  "language_info": {
   "codemirror_mode": {
    "name": "ipython",
    "version": 3
   },
   "file_extension": ".py",
   "mimetype": "text/x-python",
   "name": "python",
   "nbconvert_exporter": "python",
   "pygments_lexer": "ipython3",
   "version": "3.11.3"
  }
 },
 "nbformat": 4,
 "nbformat_minor": 5
}
